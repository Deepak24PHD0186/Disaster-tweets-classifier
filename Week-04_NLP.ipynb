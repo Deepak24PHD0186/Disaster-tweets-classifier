{
 "cells": [
  {
   "cell_type": "code",
   "execution_count": 1,
   "id": "328c9095",
   "metadata": {
    "_cell_guid": "ad64036b-f067-4ec3-8bbf-6ce0baaa662b",
    "_uuid": "3badb8ce-da39-4f3b-9c0c-5949500138fe",
    "collapsed": false,
    "execution": {
     "iopub.execute_input": "2025-04-26T10:30:59.392711Z",
     "iopub.status.busy": "2025-04-26T10:30:59.392440Z",
     "iopub.status.idle": "2025-04-26T10:31:22.135229Z",
     "shell.execute_reply": "2025-04-26T10:31:22.134418Z"
    },
    "jupyter": {
     "outputs_hidden": false
    },
    "papermill": {
     "duration": 22.751255,
     "end_time": "2025-04-26T10:31:22.136801",
     "exception": false,
     "start_time": "2025-04-26T10:30:59.385546",
     "status": "completed"
    },
    "tags": []
   },
   "outputs": [
    {
     "name": "stderr",
     "output_type": "stream",
     "text": [
      "2025-04-26 10:31:02.115774: E external/local_xla/xla/stream_executor/cuda/cuda_fft.cc:477] Unable to register cuFFT factory: Attempting to register factory for plugin cuFFT when one has already been registered\n",
      "WARNING: All log messages before absl::InitializeLog() is called are written to STDERR\n",
      "E0000 00:00:1745663462.280084      19 cuda_dnn.cc:8310] Unable to register cuDNN factory: Attempting to register factory for plugin cuDNN when one has already been registered\n",
      "E0000 00:00:1745663462.325589      19 cuda_blas.cc:1418] Unable to register cuBLAS factory: Attempting to register factory for plugin cuBLAS when one has already been registered\n"
     ]
    }
   ],
   "source": [
    "import numpy as np\n",
    "import pandas as pd\n",
    "import tensorflow as tf\n",
    "import re\n",
    "import torch\n",
    "from typing import List\n",
    "import requests\n",
    "from sklearn.feature_extraction.text import TfidfVectorizer\n",
    "from tensorflow.keras.optimizers import Adam\n",
    "from tensorflow.keras.callbacks import EarlyStopping\n",
    "from tensorflow.keras.losses import BinaryCrossentropy\n",
    "from sklearn.model_selection import train_test_split\n",
    "from sklearn.metrics import classification_report, confusion_matrix, ConfusionMatrixDisplay\n",
    "import matplotlib.pyplot as plt\n",
    "import spacy\n",
    "from bs4 import BeautifulSoup\n",
    "\n",
    "import keras_hub"
   ]
  },
  {
   "cell_type": "code",
   "execution_count": 2,
   "id": "a3ff1795",
   "metadata": {
    "execution": {
     "iopub.execute_input": "2025-04-26T10:31:22.150583Z",
     "iopub.status.busy": "2025-04-26T10:31:22.150108Z",
     "iopub.status.idle": "2025-04-26T10:31:22.154538Z",
     "shell.execute_reply": "2025-04-26T10:31:22.153839Z"
    },
    "papermill": {
     "duration": 0.012974,
     "end_time": "2025-04-26T10:31:22.155644",
     "exception": false,
     "start_time": "2025-04-26T10:31:22.142670",
     "status": "completed"
    },
    "tags": []
   },
   "outputs": [
    {
     "name": "stdout",
     "output_type": "stream",
     "text": [
      "cuda\n"
     ]
    }
   ],
   "source": [
    "device = torch.device(\"cuda\" if torch.cuda.is_available() else 'cpu')\n",
    "print(device)"
   ]
  },
  {
   "cell_type": "markdown",
   "id": "c941bc56",
   "metadata": {
    "_cell_guid": "d747450f-ae73-4783-b9ab-1f34cca5ab69",
    "_uuid": "9e359629-621c-4ae1-8ff2-c9a192fb55d2",
    "collapsed": false,
    "jupyter": {
     "outputs_hidden": false
    },
    "papermill": {
     "duration": 0.004898,
     "end_time": "2025-04-26T10:31:22.165616",
     "exception": false,
     "start_time": "2025-04-26T10:31:22.160718",
     "status": "completed"
    },
    "tags": []
   },
   "source": [
    "# Utility functions"
   ]
  },
  {
   "cell_type": "code",
   "execution_count": 3,
   "id": "bf83f289",
   "metadata": {
    "_cell_guid": "7d32927d-e330-4e36-aaa3-8d7d1d7145cd",
    "_uuid": "f171922d-1b4a-4722-b94c-15594439d88e",
    "collapsed": false,
    "execution": {
     "iopub.execute_input": "2025-04-26T10:31:22.177059Z",
     "iopub.status.busy": "2025-04-26T10:31:22.176842Z",
     "iopub.status.idle": "2025-04-26T10:31:22.654631Z",
     "shell.execute_reply": "2025-04-26T10:31:22.653866Z"
    },
    "jupyter": {
     "outputs_hidden": false
    },
    "papermill": {
     "duration": 0.485474,
     "end_time": "2025-04-26T10:31:22.656120",
     "exception": false,
     "start_time": "2025-04-26T10:31:22.170646",
     "status": "completed"
    },
    "tags": []
   },
   "outputs": [],
   "source": [
    "# Stopword List : https://github.com/6/stopwords-json/blob/master/dist/en.json\n",
    "from nltk.corpus import stopwords\n",
    "sw1 = [\"a\",\"a's\",\"able\",\"about\",\"above\",\"according\",\"http\",\"https\",\"accordingly\",\"across\",\"actually\",\"after\",\"afterwards\",\"again\",\"against\",\"ain't\",\"all\",\"allow\",\"allows\",\"almost\",\"alone\",\"along\",\"already\",\"also\",\"although\",\"always\",\"am\",\"among\",\"amongst\",\"an\",\"and\",\"another\",\"any\",\"anybody\",\"anyhow\",\"anyone\",\"anything\",\"anyway\",\"anyways\",\"anywhere\",\"apart\",\"appear\",\"appreciate\",\"appropriate\",\"are\",\"aren't\",\"around\",\"as\",\"aside\",\"ask\",\"asking\",\"associated\",\"at\",\"available\",\"away\",\"awfully\",\"b\",\"be\",\"became\",\"because\",\"become\",\"becomes\",\"becoming\",\"been\",\"before\",\"beforehand\",\"behind\",\"being\",\"believe\",\"below\",\"beside\",\"besides\",\"best\",\"better\",\"between\",\"beyond\",\"both\",\"brief\",\"but\",\"by\",\"c\",\"c'mon\",\"c's\",\"came\",\"can\",\"can't\",\"cannot\",\"cant\",\"cause\",\"causes\",\"certain\",\"certainly\",\"changes\",\"clearly\",\"co\",\"com\",\"come\",\"comes\",\"concerning\",\"consequently\",\"consider\",\"considering\",\"contain\",\"containing\",\"contains\",\"corresponding\",\"could\",\"couldn't\",\"course\",\"currently\",\"d\",\"definitely\",\"described\",\"despite\",\"did\",\"didn't\",\"different\",\"do\",\"does\",\"doesn't\",\"doing\",\"don't\",\"done\",\"down\",\"downwards\",\"during\",\"e\",\"each\",\"edu\",\"eg\",\"eight\",\"either\",\"else\",\"elsewhere\",\"enough\",\"entirely\",\"especially\",\"et\",\"etc\",\"even\",\"ever\",\"every\",\"everybody\",\"everyone\",\"everything\",\"everywhere\",\"ex\",\"exactly\",\"example\",\"except\",\"f\",\"far\",\"few\",\"fifth\",\"first\",\"five\",\"followed\",\"following\",\"follows\",\"for\",\"former\",\"formerly\",\"forth\",\"four\",\"from\",\"further\",\"furthermore\",\"g\",\"get\",\"gets\",\"getting\",\"given\",\"gives\",\"go\",\"goes\",\"going\",\"gone\",\"got\",\"gotten\",\"greetings\",\"h\",\"had\",\"hadn't\",\"happens\",\"hardly\",\"has\",\"hasn't\",\"have\",\"haven't\",\"having\",\"he\",\"he's\",\"hello\",\"help\",\"hence\",\"her\",\"here\",\"here's\",\"hereafter\",\"hereby\",\"herein\",\"hereupon\",\"hers\",\"herself\",\"hi\",\"him\",\"himself\",\"his\",\"hither\",\"hopefully\",\"how\",\"howbeit\",\"however\",\"i\",\"i'd\",\"i'll\",\"i'm\",\"i've\",\"ie\",\"if\",\"ignored\",\"immediate\",\"in\",\"inasmuch\",\"inc\",\"indeed\",\"indicate\",\"indicated\",\"indicates\",\"inner\",\"insofar\",\"instead\",\"into\",\"inward\",\"is\",\"isn't\",\"it\",\"it'd\",\"it'll\",\"it's\",\"its\",\"itself\",\"j\",\"just\",\"k\",\"keep\",\"keeps\",\"kept\",\"know\",\"known\",\"knows\",\"l\",\"last\",\"lately\",\"later\",\"latter\",\"latterly\",\"least\",\"less\",\"lest\",\"let\",\"let's\",\"like\",\"liked\",\"likely\",\"little\",\"look\",\"looking\",\"looks\",\"ltd\",\"m\",\"mainly\",\"many\",\"may\",\"maybe\",\"me\",\"mean\",\"meanwhile\",\"merely\",\"might\",\"more\",\"moreover\",\"most\",\"mostly\",\"much\",\"must\",\"my\",\"myself\",\"n\",\"name\",\"namely\",\"nd\",\"near\",\"nearly\",\"necessary\",\"need\",\"needs\",\"neither\",\"never\",\"nevertheless\",\"new\",\"next\",\"nine\",\"no\",\"nobody\",\"non\",\"none\",\"noone\",\"nor\",\"normally\",\"not\",\"nothing\",\"novel\",\"now\",\"nowhere\",\"o\",\"obviously\",\"of\",\"off\",\"often\",\"oh\",\"ok\",\"okay\",\"old\",\"on\",\"once\",\"one\",\"ones\",\"only\",\"onto\",\"or\",\"other\",\"others\",\"otherwise\",\"ought\",\"our\",\"ours\",\"ourselves\",\"out\",\"outside\",\"over\",\"overall\",\"own\",\"p\",\"particular\",\"particularly\",\"per\",\"perhaps\",\"placed\",\"please\",\"plus\",\"possible\",\"presumably\",\"probably\",\"provides\",\"q\",\"que\",\"quite\",\"qv\",\"r\",\"rather\",\"rd\",\"re\",\"really\",\"reasonably\",\"regarding\",\"regardless\",\"regards\",\"relatively\",\"respectively\",\"right\",\"s\",\"said\",\"same\",\"saw\",\"say\",\"saying\",\"says\",\"second\",\"secondly\",\"see\",\"seeing\",\"seem\",\"seemed\",\"seeming\",\"seems\",\"seen\",\"self\",\"selves\",\"sensible\",\"sent\",\"serious\",\"seriously\",\"seven\",\"several\",\"shall\",\"she\",\"should\",\"shouldn't\",\"since\",\"six\",\"so\",\"some\",\"somebody\",\"somehow\",\"someone\",\"something\",\"sometime\",\"sometimes\",\"somewhat\",\"somewhere\",\"soon\",\"sorry\",\"specified\",\"specify\",\"specifying\",\"still\",\"sub\",\"such\",\"sup\",\"sure\",\"t\",\"t's\",\"take\",\"taken\",\"tell\",\"tends\",\"th\",\"than\",\"thank\",\"thanks\",\"thanx\",\"that\",\"that's\",\"thats\",\"the\",\"their\",\"theirs\",\"them\",\"themselves\",\"then\",\"thence\",\"there\",\"there's\",\"thereafter\",\"thereby\",\"therefore\",\"therein\",\"theres\",\"thereupon\",\"these\",\"they\",\"they'd\",\"they'll\",\"they're\",\"they've\",\"think\",\"third\",\"this\",\"thorough\",\"thoroughly\",\"those\",\"though\",\"three\",\"through\",\"throughout\",\"thru\",\"thus\",\"to\",\"together\",\"too\",\"took\",\"toward\",\"towards\",\"tried\",\"tries\",\"truly\",\"try\",\"trying\",\"twice\",\"two\",\"u\",\"un\",\"under\",\"unfortunately\",\"unless\",\"unlikely\",\"until\",\"unto\",\"up\",\"upon\",\"us\",\"use\",\"used\",\"useful\",\"uses\",\"using\",\"usually\",\"uucp\",\"v\",\"value\",\"various\",\"very\",\"via\",\"viz\",\"vs\",\"w\",\"want\",\"wants\",\"was\",\"wasn't\",\"way\",\"we\",\"we'd\",\"we'll\",\"we're\",\"we've\",\"welcome\",\"well\",\"went\",\"were\",\"weren't\",\"what\",\"what's\",\"whatever\",\"when\",\"whence\",\"whenever\",\"where\",\"where's\",\"whereafter\",\"whereas\",\"whereby\",\"wherein\",\"whereupon\",\"wherever\",\"whether\",\"which\",\"while\",\"whither\",\"who\",\"who's\",\"whoever\",\"whole\",\"whom\",\"whose\",\"why\",\"will\",\"willing\",\"wish\",\"with\",\"within\",\"without\",\"won't\",\"wonder\",\"would\",\"wouldn't\",\"x\",\"y\",\"yes\",\"yet\",\"you\",\"you'd\",\"you'll\",\"you're\",\"you've\",\"your\",\"yours\",\"yourself\",\"yourselves\",\"z\",\"zero\"]\n",
    "sw1 = set(sw1)\n",
    "sw = stopwords.words(\"english\")\n",
    "sw = set(sw)\n",
    "STOPWORDS = set.union(sw1, sw)"
   ]
  },
  {
   "cell_type": "code",
   "execution_count": 4,
   "id": "558fae8e",
   "metadata": {
    "_cell_guid": "eccb61b5-5461-4d31-8e40-49fe755c87cc",
    "_uuid": "ec7caf82-5dbc-49f3-9cf4-95d4fc2a5ea4",
    "collapsed": false,
    "execution": {
     "iopub.execute_input": "2025-04-26T10:31:22.668054Z",
     "iopub.status.busy": "2025-04-26T10:31:22.667364Z",
     "iopub.status.idle": "2025-04-26T10:31:22.671075Z",
     "shell.execute_reply": "2025-04-26T10:31:22.670536Z"
    },
    "jupyter": {
     "outputs_hidden": false
    },
    "papermill": {
     "duration": 0.010566,
     "end_time": "2025-04-26T10:31:22.672121",
     "exception": false,
     "start_time": "2025-04-26T10:31:22.661555",
     "status": "completed"
    },
    "tags": []
   },
   "outputs": [],
   "source": [
    "def remove_punctuation(text):\n",
    "    import string\n",
    "# replacing the punctuations with no space,\n",
    "# which in effect deletes the punctuation marks\n",
    "    translator = str.maketrans('', '', string.punctuation)\n",
    "    return text.translate(translator)"
   ]
  },
  {
   "cell_type": "code",
   "execution_count": 5,
   "id": "a3919271",
   "metadata": {
    "_cell_guid": "17275cca-29ae-4379-a83e-c9df7a3056ad",
    "_uuid": "47de4c50-9006-482c-9441-11c2e4a4f6a1",
    "collapsed": false,
    "execution": {
     "iopub.execute_input": "2025-04-26T10:31:22.683686Z",
     "iopub.status.busy": "2025-04-26T10:31:22.683447Z",
     "iopub.status.idle": "2025-04-26T10:31:22.686812Z",
     "shell.execute_reply": "2025-04-26T10:31:22.686296Z"
    },
    "jupyter": {
     "outputs_hidden": false
    },
    "papermill": {
     "duration": 0.010184,
     "end_time": "2025-04-26T10:31:22.687909",
     "exception": false,
     "start_time": "2025-04-26T10:31:22.677725",
     "status": "completed"
    },
    "tags": []
   },
   "outputs": [],
   "source": [
    "def remove_stopwords(text):\n",
    "# filter out words that are in the stopword list\n",
    "# also lowercasing text entries\n",
    "    text = [x.lower() for x in text.split() if x.lower() not in STOPWORDS]\n",
    "# text is a collection of non-stopwords (in lowercase)\n",
    "# now join the words with space separator and return them as a string\n",
    "    return \" \".join(text)"
   ]
  },
  {
   "cell_type": "code",
   "execution_count": 6,
   "id": "55f41904",
   "metadata": {
    "_cell_guid": "b22745ff-8ebe-44f4-82ce-5fc168485af7",
    "_uuid": "9d8241b2-0303-455a-aaf2-e7153671a140",
    "collapsed": false,
    "execution": {
     "iopub.execute_input": "2025-04-26T10:31:22.698851Z",
     "iopub.status.busy": "2025-04-26T10:31:22.698621Z",
     "iopub.status.idle": "2025-04-26T10:31:22.702116Z",
     "shell.execute_reply": "2025-04-26T10:31:22.701635Z"
    },
    "jupyter": {
     "outputs_hidden": false
    },
    "papermill": {
     "duration": 0.010134,
     "end_time": "2025-04-26T10:31:22.703119",
     "exception": false,
     "start_time": "2025-04-26T10:31:22.692985",
     "status": "completed"
    },
    "tags": []
   },
   "outputs": [],
   "source": [
    "def remove_emojis(text):\n",
    "    emoji_pattern = re.compile(\"[\"\n",
    "                           u\"\\U0001F600-\\U0001F64F\"  # emoticons\n",
    "                           u\"\\U0001F300-\\U0001F5FF\"  # symbols & pictographs\n",
    "                           u\"\\U0001F680-\\U0001F6FF\"  # transport & map symbols\n",
    "                           u\"\\U0001F1E0-\\U0001F1FF\"  # flags (iOS)\n",
    "                           u\"\\U00002702-\\U000027B0\"\n",
    "                           u\"\\U000024C2-\\U0001F251\"\n",
    "                           \"]+\", flags=re.UNICODE)\n",
    "    return emoji_pattern.sub(r'', text)"
   ]
  },
  {
   "cell_type": "code",
   "execution_count": 7,
   "id": "1a7e5fca",
   "metadata": {
    "_cell_guid": "ebe32b03-eb5c-4f84-9a88-a87e3a7b6caf",
    "_uuid": "09366acb-1285-4943-93d9-efe303af090a",
    "collapsed": false,
    "execution": {
     "iopub.execute_input": "2025-04-26T10:31:22.714434Z",
     "iopub.status.busy": "2025-04-26T10:31:22.713923Z",
     "iopub.status.idle": "2025-04-26T10:31:22.717068Z",
     "shell.execute_reply": "2025-04-26T10:31:22.716551Z"
    },
    "jupyter": {
     "outputs_hidden": false
    },
    "papermill": {
     "duration": 0.009872,
     "end_time": "2025-04-26T10:31:22.718091",
     "exception": false,
     "start_time": "2025-04-26T10:31:22.708219",
     "status": "completed"
    },
    "tags": []
   },
   "outputs": [],
   "source": [
    "def remove_html(text):\n",
    "    html=re.compile(r'<.*?>')\n",
    "    return html.sub(r'',text)"
   ]
  },
  {
   "cell_type": "code",
   "execution_count": 8,
   "id": "361bd79b",
   "metadata": {
    "_cell_guid": "ec343541-71a9-4b6c-9e96-c44e90bd6408",
    "_uuid": "4158b571-4f6a-4e14-ace2-eba23fddb712",
    "collapsed": false,
    "execution": {
     "iopub.execute_input": "2025-04-26T10:31:22.728998Z",
     "iopub.status.busy": "2025-04-26T10:31:22.728804Z",
     "iopub.status.idle": "2025-04-26T10:31:22.732090Z",
     "shell.execute_reply": "2025-04-26T10:31:22.731435Z"
    },
    "jupyter": {
     "outputs_hidden": false
    },
    "papermill": {
     "duration": 0.010107,
     "end_time": "2025-04-26T10:31:22.733196",
     "exception": false,
     "start_time": "2025-04-26T10:31:22.723089",
     "status": "completed"
    },
    "tags": []
   },
   "outputs": [],
   "source": [
    "def remove_URLs(text):\n",
    "    url = re.compile(r'https?://\\S+|www\\.\\S+')\n",
    "    return url.sub(r'',text)"
   ]
  },
  {
   "cell_type": "markdown",
   "id": "34d6949e",
   "metadata": {
    "_cell_guid": "1278c38f-2f96-4215-bfa0-e4943e0ddad5",
    "_uuid": "16106945-c781-4e1c-8e87-70a58567d7e3",
    "collapsed": false,
    "jupyter": {
     "outputs_hidden": false
    },
    "papermill": {
     "duration": 0.004873,
     "end_time": "2025-04-26T10:31:22.743232",
     "exception": false,
     "start_time": "2025-04-26T10:31:22.738359",
     "status": "completed"
    },
    "tags": []
   },
   "source": [
    "# Loading the data:"
   ]
  },
  {
   "cell_type": "code",
   "execution_count": 9,
   "id": "9d32b7bf",
   "metadata": {
    "_cell_guid": "45a7a5f6-e77e-48a6-a474-b27e9d9e3b46",
    "_uuid": "eda8bd31-97be-4ce9-bb95-b4acbf4fbac3",
    "collapsed": false,
    "execution": {
     "iopub.execute_input": "2025-04-26T10:31:22.753982Z",
     "iopub.status.busy": "2025-04-26T10:31:22.753803Z",
     "iopub.status.idle": "2025-04-26T10:31:22.831531Z",
     "shell.execute_reply": "2025-04-26T10:31:22.830838Z"
    },
    "jupyter": {
     "outputs_hidden": false
    },
    "papermill": {
     "duration": 0.084537,
     "end_time": "2025-04-26T10:31:22.832768",
     "exception": false,
     "start_time": "2025-04-26T10:31:22.748231",
     "status": "completed"
    },
    "tags": []
   },
   "outputs": [],
   "source": [
    "train = pd.read_csv(\"/kaggle/input/nlp-getting-started/train.csv\")\n",
    "test = pd.read_csv(\"/kaggle/input/nlp-getting-started/test.csv\")\n",
    "submission = pd.read_csv(\"/kaggle/input/nlp-getting-started/sample_submission.csv\")"
   ]
  },
  {
   "cell_type": "code",
   "execution_count": 10,
   "id": "5c1c373f",
   "metadata": {
    "execution": {
     "iopub.execute_input": "2025-04-26T10:31:22.844365Z",
     "iopub.status.busy": "2025-04-26T10:31:22.843922Z",
     "iopub.status.idle": "2025-04-26T10:31:22.907322Z",
     "shell.execute_reply": "2025-04-26T10:31:22.906830Z"
    },
    "papermill": {
     "duration": 0.07031,
     "end_time": "2025-04-26T10:31:22.908443",
     "exception": false,
     "start_time": "2025-04-26T10:31:22.838133",
     "status": "completed"
    },
    "tags": []
   },
   "outputs": [],
   "source": [
    "train[\"text\"] = train[\"text\"].apply(remove_punctuation)\n",
    "test[\"text\"] = test[\"text\"].apply(remove_punctuation)"
   ]
  },
  {
   "cell_type": "code",
   "execution_count": 11,
   "id": "2a421282",
   "metadata": {
    "execution": {
     "iopub.execute_input": "2025-04-26T10:31:22.919629Z",
     "iopub.status.busy": "2025-04-26T10:31:22.919401Z",
     "iopub.status.idle": "2025-04-26T10:31:22.958949Z",
     "shell.execute_reply": "2025-04-26T10:31:22.958457Z"
    },
    "papermill": {
     "duration": 0.046437,
     "end_time": "2025-04-26T10:31:22.959986",
     "exception": false,
     "start_time": "2025-04-26T10:31:22.913549",
     "status": "completed"
    },
    "tags": []
   },
   "outputs": [],
   "source": [
    "train['text'] = train['text'].apply(remove_stopwords)\n",
    "test['text'] = test['text'].apply(remove_stopwords)"
   ]
  },
  {
   "cell_type": "code",
   "execution_count": 12,
   "id": "c308f71f",
   "metadata": {
    "execution": {
     "iopub.execute_input": "2025-04-26T10:31:22.970937Z",
     "iopub.status.busy": "2025-04-26T10:31:22.970728Z",
     "iopub.status.idle": "2025-04-26T10:31:23.003014Z",
     "shell.execute_reply": "2025-04-26T10:31:23.002522Z"
    },
    "papermill": {
     "duration": 0.038973,
     "end_time": "2025-04-26T10:31:23.004028",
     "exception": false,
     "start_time": "2025-04-26T10:31:22.965055",
     "status": "completed"
    },
    "tags": []
   },
   "outputs": [],
   "source": [
    "train['text'] = train['text'].apply(remove_emojis)\n",
    "test['text'] = test['text'].apply(remove_emojis)"
   ]
  },
  {
   "cell_type": "code",
   "execution_count": 13,
   "id": "bedb091d",
   "metadata": {
    "execution": {
     "iopub.execute_input": "2025-04-26T10:31:23.015052Z",
     "iopub.status.busy": "2025-04-26T10:31:23.014861Z",
     "iopub.status.idle": "2025-04-26T10:31:23.026196Z",
     "shell.execute_reply": "2025-04-26T10:31:23.025641Z"
    },
    "papermill": {
     "duration": 0.018,
     "end_time": "2025-04-26T10:31:23.027267",
     "exception": false,
     "start_time": "2025-04-26T10:31:23.009267",
     "status": "completed"
    },
    "tags": []
   },
   "outputs": [],
   "source": [
    "train['text'] = train['text'].apply(remove_html)\n",
    "test['text'] = test['text'].apply(remove_html)"
   ]
  },
  {
   "cell_type": "code",
   "execution_count": 14,
   "id": "7ed0c578",
   "metadata": {
    "execution": {
     "iopub.execute_input": "2025-04-26T10:31:23.038610Z",
     "iopub.status.busy": "2025-04-26T10:31:23.038372Z",
     "iopub.status.idle": "2025-04-26T10:31:23.058835Z",
     "shell.execute_reply": "2025-04-26T10:31:23.058247Z"
    },
    "papermill": {
     "duration": 0.027491,
     "end_time": "2025-04-26T10:31:23.059857",
     "exception": false,
     "start_time": "2025-04-26T10:31:23.032366",
     "status": "completed"
    },
    "tags": []
   },
   "outputs": [],
   "source": [
    "train['text'] = train['text'].apply(remove_URLs)\n",
    "test['text'] = test['text'].apply(remove_URLs)"
   ]
  },
  {
   "cell_type": "code",
   "execution_count": 15,
   "id": "6708c852",
   "metadata": {
    "_cell_guid": "796dd06e-8067-4e6a-a4a0-43de31a431e0",
    "_uuid": "814f8385-34e9-4b85-9c20-edf8e9ce6a46",
    "collapsed": false,
    "execution": {
     "iopub.execute_input": "2025-04-26T10:31:23.070700Z",
     "iopub.status.busy": "2025-04-26T10:31:23.070464Z",
     "iopub.status.idle": "2025-04-26T10:31:23.629385Z",
     "shell.execute_reply": "2025-04-26T10:31:23.628640Z"
    },
    "jupyter": {
     "outputs_hidden": false
    },
    "papermill": {
     "duration": 0.565739,
     "end_time": "2025-04-26T10:31:23.630570",
     "exception": false,
     "start_time": "2025-04-26T10:31:23.064831",
     "status": "completed"
    },
    "tags": []
   },
   "outputs": [
    {
     "data": {
      "image/png": "[encoded data removed]",
      "text/plain": [
       "<Figure size 800x800 with 1 Axes>"
      ]
     },
     "metadata": {},
     "output_type": "display_data"
    }
   ],
   "source": [
    "#Visualize the data\n",
    "fig, ax = plt.subplots(figsize=(8,8))\n",
    "train['target'].value_counts(sort=True).plot(kind='bar', color={'#7F2411','#669900'}, fontsize = 16)\n",
    "x = ['Not a disaster', 'Disaster']\n",
    "default_x_ticks = range(len(x))\n",
    "plt.xticks(default_x_ticks, x, rotation=0, fontsize = 16)\n",
    "plt.title('Tweet Distribution', fontsize = 20)\n",
    "plt.xlabel('Target', fontsize = 20)\n",
    "plt.ylabel('Number of tweets', fontsize = 20)\n",
    "plt.show()"
   ]
  },
  {
   "cell_type": "code",
   "execution_count": 16,
   "id": "a42d6947",
   "metadata": {
    "_cell_guid": "5c23c8bd-0876-4309-ba0f-77f9d6cf5591",
    "_uuid": "fea2f298-7e32-4751-a9e1-8d217f2b2e14",
    "collapsed": false,
    "execution": {
     "iopub.execute_input": "2025-04-26T10:31:23.642898Z",
     "iopub.status.busy": "2025-04-26T10:31:23.642691Z",
     "iopub.status.idle": "2025-04-26T10:31:23.648739Z",
     "shell.execute_reply": "2025-04-26T10:31:23.648130Z"
    },
    "jupyter": {
     "outputs_hidden": false
    },
    "papermill": {
     "duration": 0.013462,
     "end_time": "2025-04-26T10:31:23.649907",
     "exception": false,
     "start_time": "2025-04-26T10:31:23.636445",
     "status": "completed"
    },
    "tags": []
   },
   "outputs": [
    {
     "data": {
      "text/plain": [
       "target\n",
       "0    4342\n",
       "1    3271\n",
       "Name: count, dtype: int64"
      ]
     },
     "execution_count": 16,
     "metadata": {},
     "output_type": "execute_result"
    }
   ],
   "source": [
    "train['target'].value_counts(sort=True)"
   ]
  },
  {
   "cell_type": "code",
   "execution_count": 17,
   "id": "2730b4a7",
   "metadata": {
    "execution": {
     "iopub.execute_input": "2025-04-26T10:31:23.662895Z",
     "iopub.status.busy": "2025-04-26T10:31:23.662701Z",
     "iopub.status.idle": "2025-04-26T10:31:23.666812Z",
     "shell.execute_reply": "2025-04-26T10:31:23.666271Z"
    },
    "papermill": {
     "duration": 0.011745,
     "end_time": "2025-04-26T10:31:23.667857",
     "exception": false,
     "start_time": "2025-04-26T10:31:23.656112",
     "status": "completed"
    },
    "tags": []
   },
   "outputs": [],
   "source": [
    "pp_train = train.copy()"
   ]
  },
  {
   "cell_type": "code",
   "execution_count": 18,
   "id": "f5fb7b91",
   "metadata": {
    "execution": {
     "iopub.execute_input": "2025-04-26T10:31:23.680121Z",
     "iopub.status.busy": "2025-04-26T10:31:23.679926Z",
     "iopub.status.idle": "2025-04-26T10:32:03.501195Z",
     "shell.execute_reply": "2025-04-26T10:32:03.500354Z"
    },
    "papermill": {
     "duration": 39.833716,
     "end_time": "2025-04-26T10:32:03.507514",
     "exception": false,
     "start_time": "2025-04-26T10:31:23.673798",
     "status": "completed"
    },
    "tags": []
   },
   "outputs": [
    {
     "data": {
      "text/plain": [
       "0                    deed reason earthquake allah forgive\n",
       "1                        forest fire la ronge sask canada\n",
       "2       resident ask shelter place notify officer evac...\n",
       "3       people receive wildfire evacuation order calif...\n",
       "4            photo ruby alaska smoke wildfire pour school\n",
       "                              ...                        \n",
       "7608         giant crane hold bridge collapse nearby home\n",
       "7609    ariaahrary thetawniest control wild fire calif...\n",
       "7610                                    km volcano hawaii\n",
       "7611    police investigate ebike collide car portugal ...\n",
       "7612    late home raze northern california wildfire ab...\n",
       "Name: text, Length: 7613, dtype: object"
      ]
     },
     "execution_count": 18,
     "metadata": {},
     "output_type": "execute_result"
    }
   ],
   "source": [
    "# Get TF-IDF ranking of words to fill in our `keyword` and `location` datapoints\n",
    "\n",
    "# Preprocess our text setup\n",
    "nlp = spacy.load('en_core_web_sm')\n",
    "\n",
    "def preprocess(txt):\n",
    "    doc = nlp(txt.lower())\n",
    "    return ' '.join([token.lemma_ for token in doc if token.is_alpha and not token.is_stop]) # remove stopwords and lemmatize them!\n",
    "\n",
    "pp_train['text'] = train['text'].apply(preprocess)\n",
    "\n",
    "pp_train['text']"
   ]
  },
  {
   "cell_type": "markdown",
   "id": "f92fb3cc",
   "metadata": {
    "papermill": {
     "duration": 0.005556,
     "end_time": "2025-04-26T10:32:03.518937",
     "exception": false,
     "start_time": "2025-04-26T10:32:03.513381",
     "status": "completed"
    },
    "tags": []
   },
   "source": [
    "# Preprosessing"
   ]
  },
  {
   "cell_type": "code",
   "execution_count": 19,
   "id": "803350df",
   "metadata": {
    "execution": {
     "iopub.execute_input": "2025-04-26T10:32:03.531111Z",
     "iopub.status.busy": "2025-04-26T10:32:03.530883Z",
     "iopub.status.idle": "2025-04-26T10:32:14.904865Z",
     "shell.execute_reply": "2025-04-26T10:32:14.903993Z"
    },
    "papermill": {
     "duration": 11.381621,
     "end_time": "2025-04-26T10:32:14.906167",
     "exception": false,
     "start_time": "2025-04-26T10:32:03.524546",
     "status": "completed"
    },
    "tags": []
   },
   "outputs": [
    {
     "name": "stdout",
     "output_type": "stream",
     "text": [
      "['abb', 'abuse', 'abusive', 'accident', 'accuse', 'act', 'action', 'active', 'activity', 'adventure', 'adversity', 'affect', 'afflict', 'affliction', 'afghanistan', 'aftermath', 'agency', 'agenda', 'aggravation', 'aggression', 'ago', 'aiai', 'aid', 'ail', 'aim', 'algeria', 'alien', 'alir', 'allege', 'ally', 'annihilation', 'ano', 'ant', 'antagonism', 'anti', 'antisemitism', 'antiterrorism', 'antiterrorist', 'antiwar', 'aphorism']\n",
      "Size: 952\n"
     ]
    }
   ],
   "source": [
    "# get website\n",
    "\n",
    "def get_keywords(topic: str) -> List:\n",
    "    related_words = []\n",
    "    link = f'https://relatedwords.io/{topic}'\n",
    "\n",
    "    try:\n",
    "        response = requests.get(link, timeout=5)\n",
    "        response.raise_for_status()\n",
    "    except requests.Timeout:\n",
    "        print(f'Timeout Error: {e}')\n",
    "    except requests.RequestException as e:\n",
    "        print(f'Request failed: {e}')\n",
    "\n",
    "    # use soup to extract all words!\n",
    "    soup = BeautifulSoup(response.content, 'html.parser')\n",
    "\n",
    "    for a in soup.find_all('a'):\n",
    "        word = a.text.strip().lower()\n",
    "        if word.isalpha():\n",
    "            related_words.append(word)\n",
    "\n",
    "    return [preprocess(word) for word in related_words]\n",
    "\n",
    "\n",
    "topics = ['disaster', 'terrorism', 'war']\n",
    "keywords = []\n",
    "\n",
    "for topic in topics:\n",
    "    keywords.extend(get_keywords(topic))\n",
    "\n",
    "keywords = {word for word in keywords if word}\n",
    "\n",
    "print(sorted(list(keywords))[:40])\n",
    "print('Size:', len(keywords))"
   ]
  },
  {
   "cell_type": "code",
   "execution_count": 20,
   "id": "33da09fe",
   "metadata": {
    "execution": {
     "iopub.execute_input": "2025-04-26T10:32:14.919266Z",
     "iopub.status.busy": "2025-04-26T10:32:14.919050Z",
     "iopub.status.idle": "2025-04-26T10:32:56.956621Z",
     "shell.execute_reply": "2025-04-26T10:32:56.955655Z"
    },
    "papermill": {
     "duration": 42.045521,
     "end_time": "2025-04-26T10:32:56.958215",
     "exception": false,
     "start_time": "2025-04-26T10:32:14.912694",
     "status": "completed"
    },
    "tags": []
   },
   "outputs": [],
   "source": [
    "# TF-IDF\n",
    "vector = TfidfVectorizer()\n",
    "X = vector.fit_transform(pp_train['text'])\n",
    "vocab = vector.get_feature_names_out()\n",
    "\n",
    "loc_words = set()\n",
    "docs = list(nlp.pipe([f'I am in {w}' for w in vocab]))\n",
    "for word, doc in zip(vocab, docs):\n",
    "    if any(ent.label_ == 'GPE' for ent in doc.ents):\n",
    "        loc_words.add(word)\n",
    "\n",
    "def get_key(text, r_idx, loc=False):\n",
    "    og_tokens = set(text.iloc[r_idx].split())\n",
    "    row = X[r_idx].toarray()[0]\n",
    "    sorted_idx = row.argsort()[::-1] # take largest\n",
    "    for idx in sorted_idx:\n",
    "        can = vocab[idx]\n",
    "        if not loc and can in keywords and can in og_tokens: # if we want keyword\n",
    "            return can\n",
    "        elif loc and can in loc_words and can in og_tokens: # if we want location\n",
    "            return can\n",
    "    return 'No Keyword'\n",
    "\n",
    "pp_train['keyword'] = [get_key(pp_train['text'], i) for i in range(len(pp_train))]\n",
    "pp_train['location'] = [get_key(pp_train['text'], i, True) for i in range(len(pp_train))]"
   ]
  },
  {
   "cell_type": "code",
   "execution_count": 21,
   "id": "931464ab",
   "metadata": {
    "execution": {
     "iopub.execute_input": "2025-04-26T10:32:56.971444Z",
     "iopub.status.busy": "2025-04-26T10:32:56.970867Z",
     "iopub.status.idle": "2025-04-26T10:32:56.990271Z",
     "shell.execute_reply": "2025-04-26T10:32:56.989660Z"
    },
    "papermill": {
     "duration": 0.026842,
     "end_time": "2025-04-26T10:32:56.991368",
     "exception": false,
     "start_time": "2025-04-26T10:32:56.964526",
     "status": "completed"
    },
    "tags": []
   },
   "outputs": [
    {
     "data": {
      "text/html": [
       "<div>\n",
       "<style scoped>\n",
       "    .dataframe tbody tr th:only-of-type {\n",
       "        vertical-align: middle;\n",
       "    }\n",
       "\n",
       "    .dataframe tbody tr th {\n",
       "        vertical-align: top;\n",
       "    }\n",
       "\n",
       "    .dataframe thead th {\n",
       "        text-align: right;\n",
       "    }\n",
       "</style>\n",
       "<table border=\"1\" class=\"dataframe\">\n",
       "  <thead>\n",
       "    <tr style=\"text-align: right;\">\n",
       "      <th></th>\n",
       "      <th>id</th>\n",
       "      <th>keyword</th>\n",
       "      <th>location</th>\n",
       "      <th>text</th>\n",
       "      <th>target</th>\n",
       "    </tr>\n",
       "  </thead>\n",
       "  <tbody>\n",
       "    <tr>\n",
       "      <th>0</th>\n",
       "      <td>1</td>\n",
       "      <td>earthquake</td>\n",
       "      <td>No Keyword</td>\n",
       "      <td>deed reason earthquake allah forgive</td>\n",
       "      <td>1</td>\n",
       "    </tr>\n",
       "    <tr>\n",
       "      <th>1</th>\n",
       "      <td>4</td>\n",
       "      <td>fire</td>\n",
       "      <td>canada</td>\n",
       "      <td>forest fire la ronge sask canada</td>\n",
       "      <td>1</td>\n",
       "    </tr>\n",
       "    <tr>\n",
       "      <th>2</th>\n",
       "      <td>5</td>\n",
       "      <td>expect</td>\n",
       "      <td>No Keyword</td>\n",
       "      <td>resident ask shelter place notify officer evac...</td>\n",
       "      <td>1</td>\n",
       "    </tr>\n",
       "    <tr>\n",
       "      <th>3</th>\n",
       "      <td>6</td>\n",
       "      <td>evacuation</td>\n",
       "      <td>california</td>\n",
       "      <td>people receive wildfire evacuation order calif...</td>\n",
       "      <td>1</td>\n",
       "    </tr>\n",
       "    <tr>\n",
       "      <th>4</th>\n",
       "      <td>7</td>\n",
       "      <td>school</td>\n",
       "      <td>alaska</td>\n",
       "      <td>photo ruby alaska smoke wildfire pour school</td>\n",
       "      <td>1</td>\n",
       "    </tr>\n",
       "    <tr>\n",
       "      <th>...</th>\n",
       "      <td>...</td>\n",
       "      <td>...</td>\n",
       "      <td>...</td>\n",
       "      <td>...</td>\n",
       "      <td>...</td>\n",
       "    </tr>\n",
       "    <tr>\n",
       "      <th>7608</th>\n",
       "      <td>10869</td>\n",
       "      <td>collapse</td>\n",
       "      <td>No Keyword</td>\n",
       "      <td>giant crane hold bridge collapse nearby home</td>\n",
       "      <td>1</td>\n",
       "    </tr>\n",
       "    <tr>\n",
       "      <th>7609</th>\n",
       "      <td>10870</td>\n",
       "      <td>state</td>\n",
       "      <td>california</td>\n",
       "      <td>ariaahrary thetawniest control wild fire calif...</td>\n",
       "      <td>1</td>\n",
       "    </tr>\n",
       "    <tr>\n",
       "      <th>7610</th>\n",
       "      <td>10871</td>\n",
       "      <td>volcano</td>\n",
       "      <td>No Keyword</td>\n",
       "      <td>km volcano hawaii</td>\n",
       "      <td>1</td>\n",
       "    </tr>\n",
       "    <tr>\n",
       "      <th>7611</th>\n",
       "      <td>10872</td>\n",
       "      <td>threaten</td>\n",
       "      <td>portugal</td>\n",
       "      <td>police investigate ebike collide car portugal ...</td>\n",
       "      <td>1</td>\n",
       "    </tr>\n",
       "    <tr>\n",
       "      <th>7612</th>\n",
       "      <td>10873</td>\n",
       "      <td>wildfire</td>\n",
       "      <td>california</td>\n",
       "      <td>late home raze northern california wildfire ab...</td>\n",
       "      <td>1</td>\n",
       "    </tr>\n",
       "  </tbody>\n",
       "</table>\n",
       "<p>7613 rows × 5 columns</p>\n",
       "</div>"
      ],
      "text/plain": [
       "         id     keyword    location  \\\n",
       "0         1  earthquake  No Keyword   \n",
       "1         4        fire      canada   \n",
       "2         5      expect  No Keyword   \n",
       "3         6  evacuation  california   \n",
       "4         7      school      alaska   \n",
       "...     ...         ...         ...   \n",
       "7608  10869    collapse  No Keyword   \n",
       "7609  10870       state  california   \n",
       "7610  10871     volcano  No Keyword   \n",
       "7611  10872    threaten    portugal   \n",
       "7612  10873    wildfire  california   \n",
       "\n",
       "                                                   text  target  \n",
       "0                  deed reason earthquake allah forgive       1  \n",
       "1                      forest fire la ronge sask canada       1  \n",
       "2     resident ask shelter place notify officer evac...       1  \n",
       "3     people receive wildfire evacuation order calif...       1  \n",
       "4          photo ruby alaska smoke wildfire pour school       1  \n",
       "...                                                 ...     ...  \n",
       "7608       giant crane hold bridge collapse nearby home       1  \n",
       "7609  ariaahrary thetawniest control wild fire calif...       1  \n",
       "7610                                  km volcano hawaii       1  \n",
       "7611  police investigate ebike collide car portugal ...       1  \n",
       "7612  late home raze northern california wildfire ab...       1  \n",
       "\n",
       "[7613 rows x 5 columns]"
      ]
     },
     "execution_count": 21,
     "metadata": {},
     "output_type": "execute_result"
    }
   ],
   "source": [
    "pp_train"
   ]
  },
  {
   "cell_type": "markdown",
   "id": "3a75b0d3",
   "metadata": {
    "_cell_guid": "337ba5cc-0b28-4154-93ec-4079d86159f6",
    "_uuid": "e9c43b69-acbe-4983-a23d-44f3889bf45e",
    "collapsed": false,
    "jupyter": {
     "outputs_hidden": false
    },
    "papermill": {
     "duration": 0.005795,
     "end_time": "2025-04-26T10:32:57.003654",
     "exception": false,
     "start_time": "2025-04-26T10:32:56.997859",
     "status": "completed"
    },
    "tags": []
   },
   "source": [
    "# BERT Setup"
   ]
  },
  {
   "cell_type": "code",
   "execution_count": 22,
   "id": "b1038930",
   "metadata": {
    "_cell_guid": "177dc267-1f18-4d6a-bd7f-68b5fbfeeac3",
    "_uuid": "2c3cea93-990c-4ee5-b82f-39de8a88e369",
    "collapsed": false,
    "execution": {
     "iopub.execute_input": "2025-04-26T10:32:57.016095Z",
     "iopub.status.busy": "2025-04-26T10:32:57.015866Z",
     "iopub.status.idle": "2025-04-26T10:33:06.879926Z",
     "shell.execute_reply": "2025-04-26T10:33:06.879322Z"
    },
    "jupyter": {
     "outputs_hidden": false
    },
    "papermill": {
     "duration": 9.871521,
     "end_time": "2025-04-26T10:33:06.880998",
     "exception": false,
     "start_time": "2025-04-26T10:32:57.009477",
     "status": "completed"
    },
    "tags": []
   },
   "outputs": [
    {
     "name": "stderr",
     "output_type": "stream",
     "text": [
      "I0000 00:00:1745663580.155364      19 gpu_device.cc:2022] Created device /job:localhost/replica:0/task:0/device:GPU:0 with 15513 MB memory:  -> device: 0, name: Tesla P100-PCIE-16GB, pci bus id: 0000:00:04.0, compute capability: 6.0\n"
     ]
    },
    {
     "data": {
      "text/html": [
       "<pre style=\"white-space:pre;overflow-x:auto;line-height:normal;font-family:Menlo,'DejaVu Sans Mono',consolas,'Courier New',monospace\"><span style=\"font-weight: bold\">Preprocessor: \"distil_bert_text_classifier_preprocessor\"</span>\n",
       "</pre>\n"
      ],
      "text/plain": [
       "\u001b[1mPreprocessor: \"distil_bert_text_classifier_preprocessor\"\u001b[0m\n"
      ]
     },
     "metadata": {},
     "output_type": "display_data"
    },
    {
     "data": {
      "text/html": [
       "<pre style=\"white-space:pre;overflow-x:auto;line-height:normal;font-family:Menlo,'DejaVu Sans Mono',consolas,'Courier New',monospace\">┏━━━━━━━━━━━━━━━━━━━━━━━━━━━━━━━━━━━━━━━━━━━━━━━━━━━━━━━━━━━━━━━┳━━━━━━━━━━━━━━━━━━━━━━━━━━━━━━━━━━━━━━━━━━┓\n",
       "┃<span style=\"font-weight: bold\"> Layer (type)                                                  </span>┃<span style=\"font-weight: bold\">                                   Config </span>┃\n",
       "┡━━━━━━━━━━━━━━━━━━━━━━━━━━━━━━━━━━━━━━━━━━━━━━━━━━━━━━━━━━━━━━━╇━━━━━━━━━━━━━━━━━━━━━━━━━━━━━━━━━━━━━━━━━━┩\n",
       "│ distil_bert_tokenizer (<span style=\"color: #0087ff; text-decoration-color: #0087ff\">DistilBertTokenizer</span>)                   │                       Vocab size: <span style=\"color: #00af00; text-decoration-color: #00af00\">30,522</span> │\n",
       "└───────────────────────────────────────────────────────────────┴──────────────────────────────────────────┘\n",
       "</pre>\n"
      ],
      "text/plain": [
       "┏━━━━━━━━━━━━━━━━━━━━━━━━━━━━━━━━━━━━━━━━━━━━━━━━━━━━━━━━━━━━━━━┳━━━━━━━━━━━━━━━━━━━━━━━━━━━━━━━━━━━━━━━━━━┓\n",
       "┃\u001b[1m \u001b[0m\u001b[1mLayer (type)                                                 \u001b[0m\u001b[1m \u001b[0m┃\u001b[1m \u001b[0m\u001b[1m                                  Config\u001b[0m\u001b[1m \u001b[0m┃\n",
       "┡━━━━━━━━━━━━━━━━━━━━━━━━━━━━━━━━━━━━━━━━━━━━━━━━━━━━━━━━━━━━━━━╇━━━━━━━━━━━━━━━━━━━━━━━━━━━━━━━━━━━━━━━━━━┩\n",
       "│ distil_bert_tokenizer (\u001b[38;5;33mDistilBertTokenizer\u001b[0m)                   │                       Vocab size: \u001b[38;5;34m30,522\u001b[0m │\n",
       "└───────────────────────────────────────────────────────────────┴──────────────────────────────────────────┘\n"
      ]
     },
     "metadata": {},
     "output_type": "display_data"
    },
    {
     "data": {
      "text/html": [
       "<pre style=\"white-space:pre;overflow-x:auto;line-height:normal;font-family:Menlo,'DejaVu Sans Mono',consolas,'Courier New',monospace\"><span style=\"font-weight: bold\">Model: \"distil_bert_text_classifier\"</span>\n",
       "</pre>\n"
      ],
      "text/plain": [
       "\u001b[1mModel: \"distil_bert_text_classifier\"\u001b[0m\n"
      ]
     },
     "metadata": {},
     "output_type": "display_data"
    },
    {
     "data": {
      "text/html": [
       "<pre style=\"white-space:pre;overflow-x:auto;line-height:normal;font-family:Menlo,'DejaVu Sans Mono',consolas,'Courier New',monospace\">┏━━━━━━━━━━━━━━━━━━━━━━━━━━━━━━━┳━━━━━━━━━━━━━━━━━━━━━━━━━━━┳━━━━━━━━━━━━━━━━━┳━━━━━━━━━━━━━━━━━━━━━━━━━━━━┓\n",
       "┃<span style=\"font-weight: bold\"> Layer (type)                  </span>┃<span style=\"font-weight: bold\"> Output Shape              </span>┃<span style=\"font-weight: bold\">         Param # </span>┃<span style=\"font-weight: bold\"> Connected to               </span>┃\n",
       "┡━━━━━━━━━━━━━━━━━━━━━━━━━━━━━━━╇━━━━━━━━━━━━━━━━━━━━━━━━━━━╇━━━━━━━━━━━━━━━━━╇━━━━━━━━━━━━━━━━━━━━━━━━━━━━┩\n",
       "│ padding_mask (<span style=\"color: #0087ff; text-decoration-color: #0087ff\">InputLayer</span>)     │ (<span style=\"color: #00d7ff; text-decoration-color: #00d7ff\">None</span>, <span style=\"color: #00d7ff; text-decoration-color: #00d7ff\">None</span>)              │               <span style=\"color: #00af00; text-decoration-color: #00af00\">0</span> │ -                          │\n",
       "├───────────────────────────────┼───────────────────────────┼─────────────────┼────────────────────────────┤\n",
       "│ token_ids (<span style=\"color: #0087ff; text-decoration-color: #0087ff\">InputLayer</span>)        │ (<span style=\"color: #00d7ff; text-decoration-color: #00d7ff\">None</span>, <span style=\"color: #00d7ff; text-decoration-color: #00d7ff\">None</span>)              │               <span style=\"color: #00af00; text-decoration-color: #00af00\">0</span> │ -                          │\n",
       "├───────────────────────────────┼───────────────────────────┼─────────────────┼────────────────────────────┤\n",
       "│ distil_bert_backbone          │ (<span style=\"color: #00d7ff; text-decoration-color: #00d7ff\">None</span>, <span style=\"color: #00d7ff; text-decoration-color: #00d7ff\">None</span>, <span style=\"color: #00af00; text-decoration-color: #00af00\">768</span>)         │      <span style=\"color: #00af00; text-decoration-color: #00af00\">66,362,880</span> │ padding_mask[<span style=\"color: #00af00; text-decoration-color: #00af00\">0</span>][<span style=\"color: #00af00; text-decoration-color: #00af00\">0</span>],        │\n",
       "│ (<span style=\"color: #0087ff; text-decoration-color: #0087ff\">DistilBertBackbone</span>)          │                           │                 │ token_ids[<span style=\"color: #00af00; text-decoration-color: #00af00\">0</span>][<span style=\"color: #00af00; text-decoration-color: #00af00\">0</span>]            │\n",
       "├───────────────────────────────┼───────────────────────────┼─────────────────┼────────────────────────────┤\n",
       "│ get_item (<span style=\"color: #0087ff; text-decoration-color: #0087ff\">GetItem</span>)            │ (<span style=\"color: #00d7ff; text-decoration-color: #00d7ff\">None</span>, <span style=\"color: #00af00; text-decoration-color: #00af00\">768</span>)               │               <span style=\"color: #00af00; text-decoration-color: #00af00\">0</span> │ distil_bert_backbone[<span style=\"color: #00af00; text-decoration-color: #00af00\">0</span>][<span style=\"color: #00af00; text-decoration-color: #00af00\">0</span>] │\n",
       "├───────────────────────────────┼───────────────────────────┼─────────────────┼────────────────────────────┤\n",
       "│ pooled_dense (<span style=\"color: #0087ff; text-decoration-color: #0087ff\">Dense</span>)          │ (<span style=\"color: #00d7ff; text-decoration-color: #00d7ff\">None</span>, <span style=\"color: #00af00; text-decoration-color: #00af00\">768</span>)               │         <span style=\"color: #00af00; text-decoration-color: #00af00\">590,592</span> │ get_item[<span style=\"color: #00af00; text-decoration-color: #00af00\">0</span>][<span style=\"color: #00af00; text-decoration-color: #00af00\">0</span>]             │\n",
       "├───────────────────────────────┼───────────────────────────┼─────────────────┼────────────────────────────┤\n",
       "│ output_dropout (<span style=\"color: #0087ff; text-decoration-color: #0087ff\">Dropout</span>)      │ (<span style=\"color: #00d7ff; text-decoration-color: #00d7ff\">None</span>, <span style=\"color: #00af00; text-decoration-color: #00af00\">768</span>)               │               <span style=\"color: #00af00; text-decoration-color: #00af00\">0</span> │ pooled_dense[<span style=\"color: #00af00; text-decoration-color: #00af00\">0</span>][<span style=\"color: #00af00; text-decoration-color: #00af00\">0</span>]         │\n",
       "├───────────────────────────────┼───────────────────────────┼─────────────────┼────────────────────────────┤\n",
       "│ logits (<span style=\"color: #0087ff; text-decoration-color: #0087ff\">Dense</span>)                │ (<span style=\"color: #00d7ff; text-decoration-color: #00d7ff\">None</span>, <span style=\"color: #00af00; text-decoration-color: #00af00\">1</span>)                 │             <span style=\"color: #00af00; text-decoration-color: #00af00\">769</span> │ output_dropout[<span style=\"color: #00af00; text-decoration-color: #00af00\">0</span>][<span style=\"color: #00af00; text-decoration-color: #00af00\">0</span>]       │\n",
       "└───────────────────────────────┴───────────────────────────┴─────────────────┴────────────────────────────┘\n",
       "</pre>\n"
      ],
      "text/plain": [
       "┏━━━━━━━━━━━━━━━━━━━━━━━━━━━━━━━┳━━━━━━━━━━━━━━━━━━━━━━━━━━━┳━━━━━━━━━━━━━━━━━┳━━━━━━━━━━━━━━━━━━━━━━━━━━━━┓\n",
       "┃\u001b[1m \u001b[0m\u001b[1mLayer (type)                 \u001b[0m\u001b[1m \u001b[0m┃\u001b[1m \u001b[0m\u001b[1mOutput Shape             \u001b[0m\u001b[1m \u001b[0m┃\u001b[1m \u001b[0m\u001b[1m        Param #\u001b[0m\u001b[1m \u001b[0m┃\u001b[1m \u001b[0m\u001b[1mConnected to              \u001b[0m\u001b[1m \u001b[0m┃\n",
       "┡━━━━━━━━━━━━━━━━━━━━━━━━━━━━━━━╇━━━━━━━━━━━━━━━━━━━━━━━━━━━╇━━━━━━━━━━━━━━━━━╇━━━━━━━━━━━━━━━━━━━━━━━━━━━━┩\n",
       "│ padding_mask (\u001b[38;5;33mInputLayer\u001b[0m)     │ (\u001b[38;5;45mNone\u001b[0m, \u001b[38;5;45mNone\u001b[0m)              │               \u001b[38;5;34m0\u001b[0m │ -                          │\n",
       "├───────────────────────────────┼───────────────────────────┼─────────────────┼────────────────────────────┤\n",
       "│ token_ids (\u001b[38;5;33mInputLayer\u001b[0m)        │ (\u001b[38;5;45mNone\u001b[0m, \u001b[38;5;45mNone\u001b[0m)              │               \u001b[38;5;34m0\u001b[0m │ -                          │\n",
       "├───────────────────────────────┼───────────────────────────┼─────────────────┼────────────────────────────┤\n",
       "│ distil_bert_backbone          │ (\u001b[38;5;45mNone\u001b[0m, \u001b[38;5;45mNone\u001b[0m, \u001b[38;5;34m768\u001b[0m)         │      \u001b[38;5;34m66,362,880\u001b[0m │ padding_mask[\u001b[38;5;34m0\u001b[0m][\u001b[38;5;34m0\u001b[0m],        │\n",
       "│ (\u001b[38;5;33mDistilBertBackbone\u001b[0m)          │                           │                 │ token_ids[\u001b[38;5;34m0\u001b[0m][\u001b[38;5;34m0\u001b[0m]            │\n",
       "├───────────────────────────────┼───────────────────────────┼─────────────────┼────────────────────────────┤\n",
       "│ get_item (\u001b[38;5;33mGetItem\u001b[0m)            │ (\u001b[38;5;45mNone\u001b[0m, \u001b[38;5;34m768\u001b[0m)               │               \u001b[38;5;34m0\u001b[0m │ distil_bert_backbone[\u001b[38;5;34m0\u001b[0m][\u001b[38;5;34m0\u001b[0m] │\n",
       "├───────────────────────────────┼───────────────────────────┼─────────────────┼────────────────────────────┤\n",
       "│ pooled_dense (\u001b[38;5;33mDense\u001b[0m)          │ (\u001b[38;5;45mNone\u001b[0m, \u001b[38;5;34m768\u001b[0m)               │         \u001b[38;5;34m590,592\u001b[0m │ get_item[\u001b[38;5;34m0\u001b[0m][\u001b[38;5;34m0\u001b[0m]             │\n",
       "├───────────────────────────────┼───────────────────────────┼─────────────────┼────────────────────────────┤\n",
       "│ output_dropout (\u001b[38;5;33mDropout\u001b[0m)      │ (\u001b[38;5;45mNone\u001b[0m, \u001b[38;5;34m768\u001b[0m)               │               \u001b[38;5;34m0\u001b[0m │ pooled_dense[\u001b[38;5;34m0\u001b[0m][\u001b[38;5;34m0\u001b[0m]         │\n",
       "├───────────────────────────────┼───────────────────────────┼─────────────────┼────────────────────────────┤\n",
       "│ logits (\u001b[38;5;33mDense\u001b[0m)                │ (\u001b[38;5;45mNone\u001b[0m, \u001b[38;5;34m1\u001b[0m)                 │             \u001b[38;5;34m769\u001b[0m │ output_dropout[\u001b[38;5;34m0\u001b[0m][\u001b[38;5;34m0\u001b[0m]       │\n",
       "└───────────────────────────────┴───────────────────────────┴─────────────────┴────────────────────────────┘\n"
      ]
     },
     "metadata": {},
     "output_type": "display_data"
    },
    {
     "data": {
      "text/html": [
       "<pre style=\"white-space:pre;overflow-x:auto;line-height:normal;font-family:Menlo,'DejaVu Sans Mono',consolas,'Courier New',monospace\"><span style=\"font-weight: bold\"> Total params: </span><span style=\"color: #00af00; text-decoration-color: #00af00\">66,954,241</span> (255.41 MB)\n",
       "</pre>\n"
      ],
      "text/plain": [
       "\u001b[1m Total params: \u001b[0m\u001b[38;5;34m66,954,241\u001b[0m (255.41 MB)\n"
      ]
     },
     "metadata": {},
     "output_type": "display_data"
    },
    {
     "data": {
      "text/html": [
       "<pre style=\"white-space:pre;overflow-x:auto;line-height:normal;font-family:Menlo,'DejaVu Sans Mono',consolas,'Courier New',monospace\"><span style=\"font-weight: bold\"> Trainable params: </span><span style=\"color: #00af00; text-decoration-color: #00af00\">66,954,241</span> (255.41 MB)\n",
       "</pre>\n"
      ],
      "text/plain": [
       "\u001b[1m Trainable params: \u001b[0m\u001b[38;5;34m66,954,241\u001b[0m (255.41 MB)\n"
      ]
     },
     "metadata": {},
     "output_type": "display_data"
    },
    {
     "data": {
      "text/html": [
       "<pre style=\"white-space:pre;overflow-x:auto;line-height:normal;font-family:Menlo,'DejaVu Sans Mono',consolas,'Courier New',monospace\"><span style=\"font-weight: bold\"> Non-trainable params: </span><span style=\"color: #00af00; text-decoration-color: #00af00\">0</span> (0.00 B)\n",
       "</pre>\n"
      ],
      "text/plain": [
       "\u001b[1m Non-trainable params: \u001b[0m\u001b[38;5;34m0\u001b[0m (0.00 B)\n"
      ]
     },
     "metadata": {},
     "output_type": "display_data"
    }
   ],
   "source": [
    "preprocessor = keras_hub.models.DistilBertPreprocessor.from_preset('distil_bert_base_en_uncased', \n",
    "                                                                   sequence_length=128)\n",
    "\n",
    "classifier = keras_hub.models.DistilBertClassifier.from_preset('distil_bert_base_en_uncased', \n",
    "                                                               num_classes=1,\n",
    "                                                               preprocessor=preprocessor)\n",
    "\n",
    "classifier.compile(loss=BinaryCrossentropy(from_logits=True), optimizer=Adam(learning_rate=1e-5), metrics=['accuracy'])\n",
    "\n",
    "classifier.summary()"
   ]
  },
  {
   "cell_type": "markdown",
   "id": "0179e10c",
   "metadata": {
    "_cell_guid": "7d00a1cf-9e8e-4984-8521-8912ebca4590",
    "_uuid": "e350f67a-9c18-4b6f-a2f5-f86b6ada35d9",
    "collapsed": false,
    "jupyter": {
     "outputs_hidden": false
    },
    "papermill": {
     "duration": 0.006822,
     "end_time": "2025-04-26T10:33:06.895013",
     "exception": false,
     "start_time": "2025-04-26T10:33:06.888191",
     "status": "completed"
    },
    "tags": []
   },
   "source": [
    "# Build BERT model"
   ]
  },
  {
   "cell_type": "code",
   "execution_count": 23,
   "id": "dbf3c468",
   "metadata": {
    "_cell_guid": "9cacd1f5-ff0a-4a29-8128-5d9a2c0676c5",
    "_uuid": "27de8973-206f-4dfc-9529-6549f3cbc9cc",
    "collapsed": false,
    "execution": {
     "iopub.execute_input": "2025-04-26T10:33:06.958687Z",
     "iopub.status.busy": "2025-04-26T10:33:06.958381Z",
     "iopub.status.idle": "2025-04-26T10:38:13.483991Z",
     "shell.execute_reply": "2025-04-26T10:38:13.483362Z"
    },
    "jupyter": {
     "outputs_hidden": false
    },
    "papermill": {
     "duration": 306.534506,
     "end_time": "2025-04-26T10:38:13.485254",
     "exception": false,
     "start_time": "2025-04-26T10:33:06.950748",
     "status": "completed"
    },
    "tags": []
   },
   "outputs": [
    {
     "name": "stdout",
     "output_type": "stream",
     "text": [
      "Epoch 1/10\n"
     ]
    },
    {
     "name": "stderr",
     "output_type": "stream",
     "text": [
      "WARNING: All log messages before absl::InitializeLog() is called are written to STDERR\n",
      "I0000 00:00:1745663612.985018      59 service.cc:148] XLA service 0x7cbb20001930 initialized for platform CUDA (this does not guarantee that XLA will be used). Devices:\n",
      "I0000 00:00:1745663612.985567      59 service.cc:156]   StreamExecutor device (0): Tesla P100-PCIE-16GB, Compute Capability 6.0\n",
      "I0000 00:00:1745663615.326332      59 cuda_dnn.cc:529] Loaded cuDNN version 90300\n",
      "I0000 00:00:1745663629.467547      59 device_compiler.h:188] Compiled cluster using XLA!  This line is logged at most once for the lifetime of the process.\n"
     ]
    },
    {
     "name": "stdout",
     "output_type": "stream",
     "text": [
      "\u001b[1m159/159\u001b[0m \u001b[32m━━━━━━━━━━━━━━━━━━━━\u001b[0m\u001b[37m\u001b[0m \u001b[1m95s\u001b[0m 342ms/step - accuracy: 0.6455 - loss: 0.6017 - val_accuracy: 0.7992 - val_loss: 0.4559\n",
      "Epoch 2/10\n",
      "\u001b[1m159/159\u001b[0m \u001b[32m━━━━━━━━━━━━━━━━━━━━\u001b[0m\u001b[37m\u001b[0m \u001b[1m35s\u001b[0m 219ms/step - accuracy: 0.8211 - loss: 0.4248 - val_accuracy: 0.8188 - val_loss: 0.4404\n",
      "Epoch 3/10\n",
      "\u001b[1m159/159\u001b[0m \u001b[32m━━━━━━━━━━━━━━━━━━━━\u001b[0m\u001b[37m\u001b[0m \u001b[1m35s\u001b[0m 218ms/step - accuracy: 0.8559 - loss: 0.3598 - val_accuracy: 0.8178 - val_loss: 0.4562\n",
      "Epoch 4/10\n",
      "\u001b[1m159/159\u001b[0m \u001b[32m━━━━━━━━━━━━━━━━━━━━\u001b[0m\u001b[37m\u001b[0m \u001b[1m35s\u001b[0m 217ms/step - accuracy: 0.8762 - loss: 0.3178 - val_accuracy: 0.7992 - val_loss: 0.5136\n",
      "Epoch 5/10\n",
      "\u001b[1m159/159\u001b[0m \u001b[32m━━━━━━━━━━━━━━━━━━━━\u001b[0m\u001b[37m\u001b[0m \u001b[1m35s\u001b[0m 217ms/step - accuracy: 0.8947 - loss: 0.2839 - val_accuracy: 0.7924 - val_loss: 0.5416\n",
      "Epoch 6/10\n",
      "\u001b[1m159/159\u001b[0m \u001b[32m━━━━━━━━━━━━━━━━━━━━\u001b[0m\u001b[37m\u001b[0m \u001b[1m35s\u001b[0m 217ms/step - accuracy: 0.9151 - loss: 0.2464 - val_accuracy: 0.8022 - val_loss: 0.5157\n",
      "Epoch 7/10\n",
      "\u001b[1m159/159\u001b[0m \u001b[32m━━━━━━━━━━━━━━━━━━━━\u001b[0m\u001b[37m\u001b[0m \u001b[1m35s\u001b[0m 222ms/step - accuracy: 0.9210 - loss: 0.2197 - val_accuracy: 0.8110 - val_loss: 0.5201\n"
     ]
    }
   ],
   "source": [
    "combined_text = ('keyword: ' + pp_train['keyword'] + \n",
    "                 ' location: ' + pp_train['location'] + \n",
    "                 ' text: ' + pp_train['text'])\n",
    "\n",
    "# resplit data, this time with our combined text\n",
    "X_temp, X_test, y_temp, y_test = train_test_split(combined_text, pp_train['target'], test_size=0.2, stratify=pp_train['target'])\n",
    "X_train, X_val, y_train, y_val = train_test_split(X_temp, y_temp, test_size=0.1675, stratify=y_temp)\n",
    "\n",
    "early_stop = EarlyStopping(\n",
    "    monitor='val_loss',\n",
    "    patience=5,\n",
    "    restore_best_weights=True\n",
    ")\n",
    "\n",
    "final = classifier.fit(x=X_train.tolist(), y=y_train.astype('float32').values, \n",
    "               validation_data=(X_val.tolist(), y_val.astype('float32').values), \n",
    "               batch_size=32, epochs=10, callbacks=[early_stop])"
   ]
  },
  {
   "cell_type": "code",
   "execution_count": 24,
   "id": "0002dd47",
   "metadata": {
    "execution": {
     "iopub.execute_input": "2025-04-26T10:38:13.587848Z",
     "iopub.status.busy": "2025-04-26T10:38:13.587559Z",
     "iopub.status.idle": "2025-04-26T10:38:13.782052Z",
     "shell.execute_reply": "2025-04-26T10:38:13.781289Z"
    },
    "papermill": {
     "duration": 0.246553,
     "end_time": "2025-04-26T10:38:13.783208",
     "exception": false,
     "start_time": "2025-04-26T10:38:13.536655",
     "status": "completed"
    },
    "tags": []
   },
   "outputs": [
    {
     "data": {
      "text/plain": [
       "<matplotlib.legend.Legend at 0x7cbb73b1b010>"
      ]
     },
     "execution_count": 24,
     "metadata": {},
     "output_type": "execute_result"
    },
    {
     "data": {
      "image/png": "[encoded data removed]",
      "text/plain": [
       "<Figure size 640x480 with 1 Axes>"
      ]
     },
     "metadata": {},
     "output_type": "display_data"
    }
   ],
   "source": [
    "plt.plot(final.history['loss'], label='Train BERT Loss')\n",
    "plt.plot(final.history['val_loss'], label='Val BERT Loss')\n",
    "plt.title('DistilBERT Loss / Epoch')\n",
    "plt.legend()"
   ]
  },
  {
   "cell_type": "code",
   "execution_count": 25,
   "id": "75d94613",
   "metadata": {
    "execution": {
     "iopub.execute_input": "2025-04-26T10:38:13.887400Z",
     "iopub.status.busy": "2025-04-26T10:38:13.887171Z",
     "iopub.status.idle": "2025-04-26T10:38:22.150511Z",
     "shell.execute_reply": "2025-04-26T10:38:22.149790Z"
    },
    "papermill": {
     "duration": 8.315859,
     "end_time": "2025-04-26T10:38:22.151680",
     "exception": false,
     "start_time": "2025-04-26T10:38:13.835821",
     "status": "completed"
    },
    "tags": []
   },
   "outputs": [
    {
     "name": "stdout",
     "output_type": "stream",
     "text": [
      "\u001b[1m48/48\u001b[0m \u001b[32m━━━━━━━━━━━━━━━━━━━━\u001b[0m\u001b[37m\u001b[0m \u001b[1m7s\u001b[0m 96ms/step\n"
     ]
    },
    {
     "data": {
      "text/plain": [
       "<sklearn.metrics._plot.confusion_matrix.ConfusionMatrixDisplay at 0x7cbb31ce1550>"
      ]
     },
     "execution_count": 25,
     "metadata": {},
     "output_type": "execute_result"
    },
    {
     "data": {
      "image/png": "[encoded data removed]",
      "text/plain": [
       "<Figure size 640x480 with 2 Axes>"
      ]
     },
     "metadata": {},
     "output_type": "display_data"
    }
   ],
   "source": [
    "y_pred = classifier.predict(X_test.tolist())\n",
    "y_pred_lbls = (y_pred > 0.5).astype(int)\n",
    "\n",
    "cm = confusion_matrix(y_test, y_pred_lbls)\n",
    "ConfusionMatrixDisplay(cm).plot()"
   ]
  },
  {
   "cell_type": "code",
   "execution_count": 26,
   "id": "b07c9bf2",
   "metadata": {
    "execution": {
     "iopub.execute_input": "2025-04-26T10:38:22.261140Z",
     "iopub.status.busy": "2025-04-26T10:38:22.260895Z",
     "iopub.status.idle": "2025-04-26T10:38:22.271843Z",
     "shell.execute_reply": "2025-04-26T10:38:22.271120Z"
    },
    "papermill": {
     "duration": 0.068214,
     "end_time": "2025-04-26T10:38:22.272862",
     "exception": false,
     "start_time": "2025-04-26T10:38:22.204648",
     "status": "completed"
    },
    "tags": []
   },
   "outputs": [
    {
     "name": "stdout",
     "output_type": "stream",
     "text": [
      "              precision    recall  f1-score   support\n",
      "\n",
      "           0       0.81      0.90      0.85       869\n",
      "           1       0.85      0.72      0.78       654\n",
      "\n",
      "    accuracy                           0.82      1523\n",
      "   macro avg       0.83      0.81      0.82      1523\n",
      "weighted avg       0.83      0.82      0.82      1523\n",
      "\n"
     ]
    }
   ],
   "source": [
    "print(classification_report(y_test, y_pred_lbls))"
   ]
  },
  {
   "cell_type": "markdown",
   "id": "d0d0afae",
   "metadata": {
    "_cell_guid": "77510e8c-4301-413d-8ca1-a36eb7777ebc",
    "_uuid": "99bac57b-0244-4b8a-a52f-1e89bb91401f",
    "collapsed": false,
    "jupyter": {
     "outputs_hidden": false
    },
    "papermill": {
     "duration": 0.052756,
     "end_time": "2025-04-26T10:38:22.379945",
     "exception": false,
     "start_time": "2025-04-26T10:38:22.327189",
     "status": "completed"
    },
    "tags": []
   },
   "source": [
    "# Testing"
   ]
  },
  {
   "cell_type": "code",
   "execution_count": 27,
   "id": "f0d98eb9",
   "metadata": {
    "_cell_guid": "7d64effd-74e9-4780-ad0e-a3ae7bc07789",
    "_uuid": "dec60064-98d6-4836-89b5-4e47d66a7ce3",
    "collapsed": false,
    "execution": {
     "iopub.execute_input": "2025-04-26T10:38:22.487062Z",
     "iopub.status.busy": "2025-04-26T10:38:22.486810Z",
     "iopub.status.idle": "2025-04-26T10:38:22.495860Z",
     "shell.execute_reply": "2025-04-26T10:38:22.495283Z"
    },
    "jupyter": {
     "outputs_hidden": false
    },
    "papermill": {
     "duration": 0.063672,
     "end_time": "2025-04-26T10:38:22.496825",
     "exception": false,
     "start_time": "2025-04-26T10:38:22.433153",
     "status": "completed"
    },
    "tags": []
   },
   "outputs": [
    {
     "data": {
      "text/html": [
       "<div>\n",
       "<style scoped>\n",
       "    .dataframe tbody tr th:only-of-type {\n",
       "        vertical-align: middle;\n",
       "    }\n",
       "\n",
       "    .dataframe tbody tr th {\n",
       "        vertical-align: top;\n",
       "    }\n",
       "\n",
       "    .dataframe thead th {\n",
       "        text-align: right;\n",
       "    }\n",
       "</style>\n",
       "<table border=\"1\" class=\"dataframe\">\n",
       "  <thead>\n",
       "    <tr style=\"text-align: right;\">\n",
       "      <th></th>\n",
       "      <th>id</th>\n",
       "      <th>keyword</th>\n",
       "      <th>location</th>\n",
       "      <th>text</th>\n",
       "    </tr>\n",
       "  </thead>\n",
       "  <tbody>\n",
       "    <tr>\n",
       "      <th>0</th>\n",
       "      <td>0</td>\n",
       "      <td>NaN</td>\n",
       "      <td>NaN</td>\n",
       "      <td>happened terrible car crash</td>\n",
       "    </tr>\n",
       "    <tr>\n",
       "      <th>1</th>\n",
       "      <td>2</td>\n",
       "      <td>NaN</td>\n",
       "      <td>NaN</td>\n",
       "      <td>heard earthquake cities stay safe</td>\n",
       "    </tr>\n",
       "    <tr>\n",
       "      <th>2</th>\n",
       "      <td>3</td>\n",
       "      <td>NaN</td>\n",
       "      <td>NaN</td>\n",
       "      <td>forest fire spot pond geese fleeing street save</td>\n",
       "    </tr>\n",
       "    <tr>\n",
       "      <th>3</th>\n",
       "      <td>9</td>\n",
       "      <td>NaN</td>\n",
       "      <td>NaN</td>\n",
       "      <td>apocalypse lighting spokane wildfires</td>\n",
       "    </tr>\n",
       "    <tr>\n",
       "      <th>4</th>\n",
       "      <td>11</td>\n",
       "      <td>NaN</td>\n",
       "      <td>NaN</td>\n",
       "      <td>typhoon soudelor kills 28 china taiwan</td>\n",
       "    </tr>\n",
       "    <tr>\n",
       "      <th>...</th>\n",
       "      <td>...</td>\n",
       "      <td>...</td>\n",
       "      <td>...</td>\n",
       "      <td>...</td>\n",
       "    </tr>\n",
       "    <tr>\n",
       "      <th>3258</th>\n",
       "      <td>10861</td>\n",
       "      <td>NaN</td>\n",
       "      <td>NaN</td>\n",
       "      <td>earthquake safety los angeles ûò safety faste...</td>\n",
       "    </tr>\n",
       "    <tr>\n",
       "      <th>3259</th>\n",
       "      <td>10865</td>\n",
       "      <td>NaN</td>\n",
       "      <td>NaN</td>\n",
       "      <td>storm ri worse hurricane cityamp3others hardes...</td>\n",
       "    </tr>\n",
       "    <tr>\n",
       "      <th>3260</th>\n",
       "      <td>10868</td>\n",
       "      <td>NaN</td>\n",
       "      <td>NaN</td>\n",
       "      <td>green line derailment chicago httptcoutbxlcbiuy</td>\n",
       "    </tr>\n",
       "    <tr>\n",
       "      <th>3261</th>\n",
       "      <td>10874</td>\n",
       "      <td>NaN</td>\n",
       "      <td>NaN</td>\n",
       "      <td>meg issues hazardous weather outlook hwo httpt...</td>\n",
       "    </tr>\n",
       "    <tr>\n",
       "      <th>3262</th>\n",
       "      <td>10875</td>\n",
       "      <td>NaN</td>\n",
       "      <td>NaN</td>\n",
       "      <td>cityofcalgary activated municipal emergency pl...</td>\n",
       "    </tr>\n",
       "  </tbody>\n",
       "</table>\n",
       "<p>3263 rows × 4 columns</p>\n",
       "</div>"
      ],
      "text/plain": [
       "         id keyword location  \\\n",
       "0         0     NaN      NaN   \n",
       "1         2     NaN      NaN   \n",
       "2         3     NaN      NaN   \n",
       "3         9     NaN      NaN   \n",
       "4        11     NaN      NaN   \n",
       "...     ...     ...      ...   \n",
       "3258  10861     NaN      NaN   \n",
       "3259  10865     NaN      NaN   \n",
       "3260  10868     NaN      NaN   \n",
       "3261  10874     NaN      NaN   \n",
       "3262  10875     NaN      NaN   \n",
       "\n",
       "                                                   text  \n",
       "0                           happened terrible car crash  \n",
       "1                     heard earthquake cities stay safe  \n",
       "2       forest fire spot pond geese fleeing street save  \n",
       "3                 apocalypse lighting spokane wildfires  \n",
       "4                typhoon soudelor kills 28 china taiwan  \n",
       "...                                                 ...  \n",
       "3258  earthquake safety los angeles ûò safety faste...  \n",
       "3259  storm ri worse hurricane cityamp3others hardes...  \n",
       "3260    green line derailment chicago httptcoutbxlcbiuy  \n",
       "3261  meg issues hazardous weather outlook hwo httpt...  \n",
       "3262  cityofcalgary activated municipal emergency pl...  \n",
       "\n",
       "[3263 rows x 4 columns]"
      ]
     },
     "execution_count": 27,
     "metadata": {},
     "output_type": "execute_result"
    }
   ],
   "source": [
    "test"
   ]
  },
  {
   "cell_type": "code",
   "execution_count": 28,
   "id": "75b6aa07",
   "metadata": {
    "execution": {
     "iopub.execute_input": "2025-04-26T10:38:22.604642Z",
     "iopub.status.busy": "2025-04-26T10:38:22.604382Z",
     "iopub.status.idle": "2025-04-26T10:39:01.383299Z",
     "shell.execute_reply": "2025-04-26T10:39:01.382670Z"
    },
    "papermill": {
     "duration": 38.890162,
     "end_time": "2025-04-26T10:39:01.441213",
     "exception": false,
     "start_time": "2025-04-26T10:38:22.551051",
     "status": "completed"
    },
    "tags": []
   },
   "outputs": [
    {
     "data": {
      "text/html": [
       "<div>\n",
       "<style scoped>\n",
       "    .dataframe tbody tr th:only-of-type {\n",
       "        vertical-align: middle;\n",
       "    }\n",
       "\n",
       "    .dataframe tbody tr th {\n",
       "        vertical-align: top;\n",
       "    }\n",
       "\n",
       "    .dataframe thead th {\n",
       "        text-align: right;\n",
       "    }\n",
       "</style>\n",
       "<table border=\"1\" class=\"dataframe\">\n",
       "  <thead>\n",
       "    <tr style=\"text-align: right;\">\n",
       "      <th></th>\n",
       "      <th>id</th>\n",
       "      <th>keyword</th>\n",
       "      <th>location</th>\n",
       "      <th>text</th>\n",
       "    </tr>\n",
       "  </thead>\n",
       "  <tbody>\n",
       "    <tr>\n",
       "      <th>0</th>\n",
       "      <td>0</td>\n",
       "      <td>terrible</td>\n",
       "      <td>No Keyword</td>\n",
       "      <td>happen terrible car crash</td>\n",
       "    </tr>\n",
       "    <tr>\n",
       "      <th>1</th>\n",
       "      <td>2</td>\n",
       "      <td>earthquake</td>\n",
       "      <td>No Keyword</td>\n",
       "      <td>hear earthquake city stay safe</td>\n",
       "    </tr>\n",
       "    <tr>\n",
       "      <th>2</th>\n",
       "      <td>3</td>\n",
       "      <td>fire</td>\n",
       "      <td>No Keyword</td>\n",
       "      <td>forest fire spot pond geese flee street save</td>\n",
       "    </tr>\n",
       "    <tr>\n",
       "      <th>3</th>\n",
       "      <td>9</td>\n",
       "      <td>apocalypse</td>\n",
       "      <td>No Keyword</td>\n",
       "      <td>apocalypse light spokane wildfire</td>\n",
       "    </tr>\n",
       "    <tr>\n",
       "      <th>4</th>\n",
       "      <td>11</td>\n",
       "      <td>typhoon</td>\n",
       "      <td>taiwan</td>\n",
       "      <td>typhoon soudelor kill china taiwan</td>\n",
       "    </tr>\n",
       "    <tr>\n",
       "      <th>...</th>\n",
       "      <td>...</td>\n",
       "      <td>...</td>\n",
       "      <td>...</td>\n",
       "      <td>...</td>\n",
       "    </tr>\n",
       "    <tr>\n",
       "      <th>3258</th>\n",
       "      <td>10861</td>\n",
       "      <td>earthquake</td>\n",
       "      <td>No Keyword</td>\n",
       "      <td>earthquake safety los angeles safety fastener ...</td>\n",
       "    </tr>\n",
       "    <tr>\n",
       "      <th>3259</th>\n",
       "      <td>10865</td>\n",
       "      <td>hard</td>\n",
       "      <td>No Keyword</td>\n",
       "      <td>storm ri bad hurricane hard hit yard bomb power</td>\n",
       "    </tr>\n",
       "    <tr>\n",
       "      <th>3260</th>\n",
       "      <td>10868</td>\n",
       "      <td>derailment</td>\n",
       "      <td>chicago</td>\n",
       "      <td>green line derailment chicago httptcoutbxlcbiuy</td>\n",
       "    </tr>\n",
       "    <tr>\n",
       "      <th>3261</th>\n",
       "      <td>10874</td>\n",
       "      <td>weather</td>\n",
       "      <td>No Keyword</td>\n",
       "      <td>meg issue hazardous weather outlook hwo</td>\n",
       "    </tr>\n",
       "    <tr>\n",
       "      <th>3262</th>\n",
       "      <td>10875</td>\n",
       "      <td>emergency</td>\n",
       "      <td>No Keyword</td>\n",
       "      <td>cityofcalgary activate municipal emergency pla...</td>\n",
       "    </tr>\n",
       "  </tbody>\n",
       "</table>\n",
       "<p>3263 rows × 4 columns</p>\n",
       "</div>"
      ],
      "text/plain": [
       "         id     keyword    location  \\\n",
       "0         0    terrible  No Keyword   \n",
       "1         2  earthquake  No Keyword   \n",
       "2         3        fire  No Keyword   \n",
       "3         9  apocalypse  No Keyword   \n",
       "4        11     typhoon      taiwan   \n",
       "...     ...         ...         ...   \n",
       "3258  10861  earthquake  No Keyword   \n",
       "3259  10865        hard  No Keyword   \n",
       "3260  10868  derailment     chicago   \n",
       "3261  10874     weather  No Keyword   \n",
       "3262  10875   emergency  No Keyword   \n",
       "\n",
       "                                                   text  \n",
       "0                             happen terrible car crash  \n",
       "1                        hear earthquake city stay safe  \n",
       "2          forest fire spot pond geese flee street save  \n",
       "3                     apocalypse light spokane wildfire  \n",
       "4                    typhoon soudelor kill china taiwan  \n",
       "...                                                 ...  \n",
       "3258  earthquake safety los angeles safety fastener ...  \n",
       "3259    storm ri bad hurricane hard hit yard bomb power  \n",
       "3260    green line derailment chicago httptcoutbxlcbiuy  \n",
       "3261            meg issue hazardous weather outlook hwo  \n",
       "3262  cityofcalgary activate municipal emergency pla...  \n",
       "\n",
       "[3263 rows x 4 columns]"
      ]
     },
     "execution_count": 28,
     "metadata": {},
     "output_type": "execute_result"
    }
   ],
   "source": [
    "# preprocess text to get keyword + location\n",
    "test['text'] = test['text'].apply(preprocess)\n",
    "\n",
    "# TF-IDF\n",
    "X = vector.transform(test['text'])\n",
    "vocab = vector.get_feature_names_out()\n",
    "\n",
    "loc_words = set()\n",
    "docs = list(nlp.pipe([f'I am in {w}' for w in vocab]))\n",
    "for word, doc in zip(vocab, docs):\n",
    "    if any(ent.label_ == 'GPE' for ent in doc.ents):\n",
    "        loc_words.add(word)\n",
    "\n",
    "test['keyword'] = [get_key(test['text'], i) for i in range(len(test))]\n",
    "test['location'] = [get_key(test['text'], i, True) for i in range(len(test))]\n",
    "\n",
    "test"
   ]
  },
  {
   "cell_type": "code",
   "execution_count": 29,
   "id": "da136795",
   "metadata": {
    "execution": {
     "iopub.execute_input": "2025-04-26T10:39:01.548723Z",
     "iopub.status.busy": "2025-04-26T10:39:01.548066Z",
     "iopub.status.idle": "2025-04-26T10:39:09.432371Z",
     "shell.execute_reply": "2025-04-26T10:39:09.431582Z"
    },
    "papermill": {
     "duration": 7.939828,
     "end_time": "2025-04-26T10:39:09.434080",
     "exception": false,
     "start_time": "2025-04-26T10:39:01.494252",
     "status": "completed"
    },
    "tags": []
   },
   "outputs": [
    {
     "name": "stdout",
     "output_type": "stream",
     "text": [
      "\u001b[1m102/102\u001b[0m \u001b[32m━━━━━━━━━━━━━━━━━━━━\u001b[0m\u001b[37m\u001b[0m \u001b[1m7s\u001b[0m 61ms/step\n"
     ]
    }
   ],
   "source": [
    "combined_text = ('keyword: ' + test['keyword'] + \n",
    "                 ' location: ' + test['location'] + \n",
    "                 ' text: ' + test['text'])\n",
    "\n",
    "submission_bert = (classifier.predict(combined_text) > 0.5).astype(int)\n",
    "\n",
    "submission_bert_df = pd.DataFrame({\n",
    "    'id': test['id'],\n",
    "    'target': submission_bert.flatten()\n",
    "})\n",
    "\n",
    "submission_bert_df.to_csv('submission_bert.csv', index=False)"
   ]
  },
  {
   "cell_type": "code",
   "execution_count": 30,
   "id": "1bcd3686",
   "metadata": {
    "_cell_guid": "d703835d-67a7-4023-b09a-0a7de045c31b",
    "_uuid": "24180e23-5e35-41a1-bd57-3c19d19e9626",
    "collapsed": false,
    "execution": {
     "iopub.execute_input": "2025-04-26T10:39:09.568679Z",
     "iopub.status.busy": "2025-04-26T10:39:09.567997Z",
     "iopub.status.idle": "2025-04-26T10:39:09.572535Z",
     "shell.execute_reply": "2025-04-26T10:39:09.571856Z"
    },
    "jupyter": {
     "outputs_hidden": false
    },
    "papermill": {
     "duration": 0.065121,
     "end_time": "2025-04-26T10:39:09.573829",
     "exception": false,
     "start_time": "2025-04-26T10:39:09.508708",
     "status": "completed"
    },
    "tags": []
   },
   "outputs": [
    {
     "name": "stdout",
     "output_type": "stream",
     "text": [
      " Successfully completed! \n"
     ]
    }
   ],
   "source": [
    "print(\" Successfully completed! \")"
   ]
  },
  {
   "cell_type": "code",
   "execution_count": 31,
   "id": "7dd30743",
   "metadata": {
    "_cell_guid": "311e2791-da58-4569-bdec-6bb4dc014d1a",
    "_uuid": "474d905c-6129-4abd-9fe2-d28c3d64dbbf",
    "collapsed": false,
    "execution": {
     "iopub.execute_input": "2025-04-26T10:39:09.697568Z",
     "iopub.status.busy": "2025-04-26T10:39:09.697298Z",
     "iopub.status.idle": "2025-04-26T10:39:09.704157Z",
     "shell.execute_reply": "2025-04-26T10:39:09.703458Z"
    },
    "jupyter": {
     "outputs_hidden": false
    },
    "papermill": {
     "duration": 0.066214,
     "end_time": "2025-04-26T10:39:09.705215",
     "exception": false,
     "start_time": "2025-04-26T10:39:09.639001",
     "status": "completed"
    },
    "tags": []
   },
   "outputs": [
    {
     "data": {
      "text/html": [
       "<div>\n",
       "<style scoped>\n",
       "    .dataframe tbody tr th:only-of-type {\n",
       "        vertical-align: middle;\n",
       "    }\n",
       "\n",
       "    .dataframe tbody tr th {\n",
       "        vertical-align: top;\n",
       "    }\n",
       "\n",
       "    .dataframe thead th {\n",
       "        text-align: right;\n",
       "    }\n",
       "</style>\n",
       "<table border=\"1\" class=\"dataframe\">\n",
       "  <thead>\n",
       "    <tr style=\"text-align: right;\">\n",
       "      <th></th>\n",
       "      <th>id</th>\n",
       "      <th>target</th>\n",
       "    </tr>\n",
       "  </thead>\n",
       "  <tbody>\n",
       "    <tr>\n",
       "      <th>0</th>\n",
       "      <td>0</td>\n",
       "      <td>1</td>\n",
       "    </tr>\n",
       "    <tr>\n",
       "      <th>1</th>\n",
       "      <td>2</td>\n",
       "      <td>1</td>\n",
       "    </tr>\n",
       "    <tr>\n",
       "      <th>2</th>\n",
       "      <td>3</td>\n",
       "      <td>1</td>\n",
       "    </tr>\n",
       "    <tr>\n",
       "      <th>3</th>\n",
       "      <td>9</td>\n",
       "      <td>1</td>\n",
       "    </tr>\n",
       "    <tr>\n",
       "      <th>4</th>\n",
       "      <td>11</td>\n",
       "      <td>1</td>\n",
       "    </tr>\n",
       "  </tbody>\n",
       "</table>\n",
       "</div>"
      ],
      "text/plain": [
       "   id  target\n",
       "0   0       1\n",
       "1   2       1\n",
       "2   3       1\n",
       "3   9       1\n",
       "4  11       1"
      ]
     },
     "execution_count": 31,
     "metadata": {},
     "output_type": "execute_result"
    }
   ],
   "source": [
    "submission_bert_df.head()"
   ]
  },
  {
   "cell_type": "code",
   "execution_count": null,
   "id": "a10bcf1c",
   "metadata": {
    "papermill": {
     "duration": 0.057133,
     "end_time": "2025-04-26T10:39:09.834842",
     "exception": false,
     "start_time": "2025-04-26T10:39:09.777709",
     "status": "completed"
    },
    "tags": []
   },
   "outputs": [],
   "source": []
  }
 ],
 "metadata": {
  "kaggle": {
   "accelerator": "gpu",
   "dataSources": [
    {
     "databundleVersionId": 869809,
     "sourceId": 17777,
     "sourceType": "competition"
    },
    {
     "modelId": 2821,
     "modelInstanceId": 4689,
     "sourceId": 6068,
     "sourceType": "modelInstanceVersion"
    }
   ],
   "dockerImageVersionId": 31011,
   "isGpuEnabled": true,
   "isInternetEnabled": true,
   "language": "python",
   "sourceType": "notebook"
  },
  "kernelspec": {
   "display_name": "Python 3",
   "language": "python",
   "name": "python3"
  },
  "language_info": {
   "codemirror_mode": {
    "name": "ipython",
    "version": 3
   },
   "file_extension": ".py",
   "mimetype": "text/x-python",
   "name": "python",
   "nbconvert_exporter": "python",
   "pygments_lexer": "ipython3",
   "version": "3.11.11"
  },
  "papermill": {
   "default_parameters": {},
   "duration": 498.499349,
   "end_time": "2025-04-26T10:39:13.640642",
   "environment_variables": {},
   "exception": null,
   "input_path": "__notebook__.ipynb",
   "output_path": "__notebook__.ipynb",
   "parameters": {},
   "start_time": "2025-04-26T10:30:55.141293",
   "version": "2.6.0"
  }
 },
 "nbformat": 4,
 "nbformat_minor": 5
}
